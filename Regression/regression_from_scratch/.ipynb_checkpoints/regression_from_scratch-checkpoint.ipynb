{
 "cells": [
  {
   "cell_type": "code",
   "execution_count": 13,
   "metadata": {
    "collapsed": false
   },
   "outputs": [],
   "source": [
    "import numpy as np\n",
    "import pandas as pd\n",
    "\n",
    "# loading the dataset\n",
    "data=pd.read_csv('data.csv')\n",
    "data.head()\n",
    "Y=data['h_score']\n",
    "X=data[data.columns.difference(['h_score'])]\n",
    "\n",
    "# train test split\n",
    "from sklearn.model_selection import train_test_split\n",
    "X_train, X_test, Y_train, Y_test = train_test_split(X, Y, test_size=0.2, random_state=42)\n",
    "    "
   ]
  },
  {
   "cell_type": "code",
   "execution_count": 79,
   "metadata": {
    "collapsed": false
   },
   "outputs": [
    {
     "name": "stdout",
     "output_type": "stream",
     "text": [
      "<< DONE TRAINING  >>\n",
      "100.0\n",
      "\tOriginal\t\tPredicted\n",
      "---------------------------------------------------------------------\n",
      "5.25 \t\t\t[ 5.31446742]\n",
      "3.6570000648 \t\t\t[ 2.66005289]\n",
      "6.4239997864 \t\t\t[ 6.75480713]\n",
      "6.4520001411 \t\t\t[ 6.27475459]\n",
      "4.4600000381 \t\t\t[ 3.96902447]\n",
      "5.8099999428 \t\t\t[ 6.01105501]\n",
      "5.0739998817 \t\t\t[ 5.78534969]\n",
      "3.5329999924 \t\t\t[ 3.44444104]\n",
      "2.9049999714 \t\t\t[ 2.17422356]\n",
      "5.5 \t\t\t[ 5.4230244]\n",
      "6.0710000992 \t\t\t[ 5.65014518]\n",
      "3.8080000877 \t\t\t[ 4.17497922]\n",
      "5.2729997635 \t\t\t[ 5.32057068]\n",
      "5.3109998703 \t\t\t[ 5.87632492]\n",
      "6.9510002136 \t\t\t[ 7.05514724]\n",
      "6.6519999504 \t\t\t[ 6.0378244]\n",
      "6.4419999123 \t\t\t[ 6.39634298]\n",
      "5.1810002327 \t\t\t[ 4.91748203]\n",
      "4.4650001526 \t\t\t[ 4.63737954]\n",
      "3.875 \t\t\t[ 4.00275778]\n",
      "6.7140002251 \t\t\t[ 7.18177987]\n",
      "7.006000042 \t\t\t[ 7.00530694]\n",
      "7.2839999199 \t\t\t[ 7.46065055]\n",
      "6.5780000687 \t\t\t[ 5.49653458]\n",
      "5.4930000305 \t\t\t[ 6.14201972]\n",
      "4.0960001945 \t\t\t[ 5.21267416]\n",
      "5.0409998894 \t\t\t[ 5.3153576]\n",
      "5.9730000496 \t\t\t[ 6.35106234]\n",
      "5.2270002365 \t\t\t[ 4.98885687]\n",
      "5.234000206 \t\t\t[ 5.04267583]\n",
      "4.1900000572 \t\t\t[ 4.45018385]\n"
     ]
    },
    {
     "data": {
      "text/plain": [
       "array([ 0.47791462])"
      ]
     },
     "execution_count": 79,
     "metadata": {},
     "output_type": "execute_result"
    }
   ],
   "source": [
    "\n",
    "\n",
    "class linear_regression():\n",
    "    def __init__(self):\n",
    "        self.phi=None\n",
    "        self.weights=None\n",
    "        self.Y=None\n",
    "        self.rmserr=100.0\n",
    "    \n",
    "    def fit(self,X,Y,algo='ls'):\n",
    "        self.phi=X.as_matrix()\n",
    "        self.Y=Y.as_matrix()\n",
    "        if algo=='ls':\n",
    "            self.least_squared_fit()\n",
    "        \n",
    "    def least_squared_fit(self):\n",
    "        #phiT\n",
    "        phi_t=self.phi.transpose()\n",
    "        #(phiT*phi)\n",
    "        temp_l=np.matmul(phi_t,self.phi)\n",
    "        #inv(phiT*phi)\n",
    "        phi_inv=np.linalg.inv(temp_l)\n",
    "        #inv(phiT*phi)*phi\n",
    "        temp_l_2=np.matmul(phi_inv,phi_t)\n",
    "        #w=inv(phiT*phi)*phi*Y\n",
    "        self.weights=np.matmul(temp_l_2,self.Y)\n",
    "        #row vector to column vector weights\n",
    "        self.weights=self.weights.reshape((self.weights.size,1))\n",
    "        #calculate training rmse\n",
    "        #self.rmserr=self.rmse(self.phi,self.Y)\n",
    "        print '<< DONE TRAINING  >>'\n",
    "\n",
    "    \n",
    "    def predict(self,x):\n",
    "        return np.matmul(self.weights.transpose(),x)\n",
    "    \n",
    "    def rmse(self,x,y):\n",
    "        err=0.0\n",
    "        print '\\tOriginal\\t\\tPredicted'\n",
    "        print '-----------------------'*3\n",
    "        for i in xrange(y.size):\n",
    "            print y[i],'\\t\\t\\t',self.predict(x[i])\n",
    "            err+=(y[i]-self.predict(x[i]))**2\n",
    "        err/=float(y.size)\n",
    "        err=err**.5\n",
    "        return err\n",
    "        \n",
    "    def print_weights(self):\n",
    "        print self.weights\n",
    "\n",
    "l=linear_regression()\n",
    "l.fit(X_train,Y_train)\n",
    "print l.rmserr\n",
    "l.rmse(X_test.as_matrix(),Y_test.as_matrix())"
   ]
  }
 ],
 "metadata": {
  "kernelspec": {
   "display_name": "Python 2",
   "language": "python",
   "name": "python2"
  },
  "language_info": {
   "codemirror_mode": {
    "name": "ipython",
    "version": 2
   },
   "file_extension": ".py",
   "mimetype": "text/x-python",
   "name": "python",
   "nbconvert_exporter": "python",
   "pygments_lexer": "ipython2",
   "version": "2.7.13"
  }
 },
 "nbformat": 4,
 "nbformat_minor": 2
}
