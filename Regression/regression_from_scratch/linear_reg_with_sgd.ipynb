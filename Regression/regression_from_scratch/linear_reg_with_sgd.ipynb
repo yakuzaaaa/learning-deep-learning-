{
 "cells": [
  {
   "cell_type": "code",
   "execution_count": 1,
   "metadata": {
    "collapsed": true
   },
   "outputs": [],
   "source": [
    "import numpy as np\n",
    "import pandas as pd\n",
    "import matplotlib.pyplot as plt"
   ]
  },
  {
   "cell_type": "code",
   "execution_count": 3,
   "metadata": {
    "collapsed": true
   },
   "outputs": [],
   "source": [
    "data=pd.read_csv('data2.csv')\n",
    "data.head()\n",
    "Y=data['h_score']\n",
    "X=data[data.columns.difference(['h_score'])]\n",
    "\n",
    "# train test split\n",
    "from sklearn.model_selection import train_test_split\n",
    "X_train, X_test, Y_train, Y_test = train_test_split(X, Y, test_size=0.2, random_state=42)\n"
   ]
  },
  {
   "cell_type": "code",
   "execution_count": 105,
   "metadata": {},
   "outputs": [],
   "source": [
    "class linear_model():\n",
    "    def __init__(self,p=2,poly=1):\n",
    "        self._phi=None\n",
    "        self._p=p\n",
    "        self.poly=poly\n",
    "        self._weights=None\n",
    "        self._y=None\n",
    "        self._lr=0.000001\n",
    "        self._lmda=1000\n",
    "        self._iter=300\n",
    "        self._rmse=1000;\n",
    "        \n",
    "    def scale_features(self,mat):\n",
    "        normed= (mat-mat.mean(axis=0))/mat.std(axis=0)\n",
    "        #normed=np.hstack((normed,np.ones(mat.shape[0]).reshape((mat.shape[0],1))))\n",
    "        return normed\n",
    "    \n",
    "    def transform_features(self,mat):\n",
    "        retval=mat\n",
    "        rx=mat\n",
    "        for fi in range(mat.shape[1]):\n",
    "            for k in range(fi+1,mat.shape[1]):\n",
    "                rx=np.hstack((rx,mat[:,fi].reshape((mat.shape[0],1))*mat[:,k].reshape((mat.shape[0],1))))\n",
    "        for fi in range(mat.shape[1]):\n",
    "            for i in range(self.poly-1):\n",
    "                retval=np.hstack((retval,mat[:,fi].reshape((mat.shape[0],1))**(i+2)))\n",
    "        retval=self.scale_features(retval)\n",
    "        rx=self.scale_features(rx)\n",
    "        #retval=np.hstack((retval,rx))\n",
    "        retval=np.hstack((retval,np.ones(mat.shape[0]).reshape((mat.shape[0],1))))\n",
    "        \n",
    "        return retval\n",
    "    \n",
    "    def fit(self,x,y):\n",
    "        self._phi=x.as_matrix()\n",
    "        self._y=y.as_matrix().reshape((y.size,1))\n",
    "        self._phi=self.transform_features(self._phi)\n",
    "        self._weights=np.zeros(self._phi.shape[1]).reshape((self._phi.shape[1],1))\n",
    "        errs=[]\n",
    "        for i in range(self._iter):\n",
    "            step=self.gd_step()\n",
    "            self._weights=step\n",
    "            self._rmse=self.rmse(self._phi,self._y)\n",
    "            errs.append(self.rmse(self._phi,self._y))\n",
    "        plt.plot(range(self._iter),errs)\n",
    "        plt.show()\n",
    "        print ('<< DONE TRAINING >>')\n",
    "    \n",
    "    def power(self,x):\n",
    "        if x==0:\n",
    "            return 1\n",
    "        else:\n",
    "            return x**(self._p-2)\n",
    "        \n",
    "    def mod_w_p(self):\n",
    "        x=np.absolute(self._weights)\n",
    "        vfunc = np.vectorize(self.power)\n",
    "        x=vfunc(x)\n",
    "        return x\n",
    "    \n",
    "    def gd_step(self):\n",
    "        t1=np.dot(self._phi.T,self._y)\n",
    "        t2=np.dot(np.dot(self._phi.T,self._phi),self._weights)\n",
    "        t3=self._lmda*self._p*np.dot(self._weights.T,self.mod_w_p())\n",
    "        t=t1-t2-t3\n",
    "        return self._weights+t*self._lr\n",
    "    \n",
    "    \n",
    "    def predict(self,x):\n",
    "        return np.matmul(x,self._weights)\n",
    "    \n",
    "    def rmse(self,x,y):\n",
    "        err=0.0\n",
    "        err=((y-self.predict(x))**2).sum()/y.size\n",
    "        err=err**.5\n",
    "        return err"
   ]
  },
  {
   "cell_type": "code",
   "execution_count": 106,
   "metadata": {},
   "outputs": [
    {
     "data": {
      "image/png": "[encoded data removed]",
      "text/plain": [
       "<matplotlib.figure.Figure at 0x7f4e1d805e10>"
      ]
     },
     "metadata": {},
     "output_type": "display_data"
    },
    {
     "name": "stdout",
     "output_type": "stream",
     "text": [
      "<< DONE TRAINING >>\n",
      "102.135518067\n",
      "[[ -6.40039700e+00]\n",
      " [ -2.20800545e+00]\n",
      " [  2.81351221e+00]\n",
      " [ -2.37874810e+00]\n",
      " [  1.15406416e+00]\n",
      " [ -4.27114705e-01]\n",
      " [ -1.66964953e+00]\n",
      " [ -1.28436335e+01]\n",
      " [ -9.52907859e-01]\n",
      " [ -4.51030398e+00]\n",
      " [ -2.49464202e+00]\n",
      " [ -5.51629309e+00]\n",
      " [  1.36309319e-01]\n",
      " [  2.51663240e-01]\n",
      " [  8.29163562e-01]\n",
      " [ -9.46256508e-01]\n",
      " [ -4.27137754e-02]\n",
      " [  3.16402223e+00]\n",
      " [ -1.26131900e+00]\n",
      " [ -6.80938724e-01]\n",
      " [ -2.14480526e+00]\n",
      " [ -1.06055537e+00]\n",
      " [ -1.75758526e+00]\n",
      " [ -4.63996810e+00]\n",
      " [ -1.21836041e+00]\n",
      " [ -5.59588463e+00]\n",
      " [ -1.47554141e+01]\n",
      " [  1.15215834e+01]\n",
      " [  8.78353652e+01]]\n"
     ]
    }
   ],
   "source": [
    "train=pd.read_csv('data/train.csv')\n",
    "test=pd.read_csv('data/test.csv')\n",
    "\n",
    "import datetime\n",
    "\n",
    "def date2t(x):\n",
    "    l=x.split(':')\n",
    "    return float(l[-3].split(' ')[-1])+float(l[-2])/60.\n",
    "\n",
    "def date2m(x):\n",
    "    l=x.split(\" \")\n",
    "    return int((float(l[0].split('-')[1])+float(l[0].split('-')[2])/30)*2)\n",
    "\n",
    "def date2d(x):\n",
    "    l=x.split(\" \")\n",
    "    s=(l[0].split('-'))\n",
    "    return datetime.date(int(s[0]),int(s[1]),int(s[2])).weekday()\n",
    "\n",
    "train['time']=train['date'].apply(date2t)\n",
    "train['month']=train['date'].apply(date2m)\n",
    "train['day']=train['date'].apply(date2d)\n",
    "test['time']=test['date'].apply(date2t)\n",
    "test['month']=test['date'].apply(date2m)\n",
    "#train=train[train['Output']<500]\n",
    "X=train[train.columns.difference(['Output'])]\n",
    "Y=train[['Output']]\n",
    "\n",
    "X_train, X_test, Y_train, Y_test = train_test_split(X, Y, test_size=0.2, random_state=42)\n",
    "\n",
    "\n",
    "# train['time']=train['date'].apply(date2t)\n",
    "# test['time']=train['date'].apply(date2t)\n",
    "# train['month']=train['date'].apply(date2m)\n",
    "\n",
    "# features_taken=['time','T6','Windspeed','Visibility']\n",
    "features_taken=X_train.columns.difference(['date'])\n",
    "X_train=X_train[features_taken]\n",
    "\n",
    "\n",
    "\n",
    "Y_train=Y_train[['Output']]\n",
    "X_test=X_test[features_taken]\n",
    "\n",
    "l=linear_model(p=2,poly=1)\n",
    "l.fit(X_train,Y_train)\n",
    "\n",
    "print(l._rmse)\n",
    "print(l._weights)\n",
    "X_test=l.transform_features(X_test.as_matrix())\n",
    "\n"
   ]
  },
  {
   "cell_type": "code",
   "execution_count": 305,
   "metadata": {},
   "outputs": [
    {
     "data": {
      "image/png": "[encoded data removed]",
      "text/plain": [
       "<matplotlib.figure.Figure at 0x7f3240ff34e0>"
      ]
     },
     "metadata": {},
     "output_type": "display_data"
    }
   ],
   "source": [
    "\n",
    "#print(l.rmse(X_test,Y_test))\n",
    "\n",
    "plt.scatter(train['month'],Y,color='blue',alpha='.5')\n",
    "plt.show()\n"
   ]
  },
  {
   "cell_type": "code",
   "execution_count": 110,
   "metadata": {},
   "outputs": [
    {
     "name": "stdout",
     "output_type": "stream",
     "text": [
      "[[ -0.14969775   0.15071422   3.29130268  -1.29911112   2.03026128\n",
      "   -0.27797275   0.26642747  -2.35282938  -0.29094634  -3.52900751\n",
      "   -0.99084599  -1.58117671   0.82357768   0.57958109   1.38125721\n",
      "    0.50844293   1.19790425   6.50455283   0.39799431   0.73555285\n",
      "   -0.77557575  -0.23440973  -2.66146387  -0.30851133   3.32212405\n",
      "    0.44596515  -5.18844834  18.11659249]]\n",
      "[ 98.28173077]\n"
     ]
    },
    {
     "ename": "ValueError",
     "evalue": "shapes (10400,28) and (1,28) not aligned: 28 (dim 1) != 1 (dim 0)",
     "output_type": "error",
     "traceback": [
      "\u001b[0;31m---------------------------------------------------------------------------\u001b[0m",
      "\u001b[0;31mValueError\u001b[0m                                Traceback (most recent call last)",
      "\u001b[0;32m<ipython-input-110-7a6deb7bd21c>\u001b[0m in \u001b[0;36m<module>\u001b[0;34m()\u001b[0m\n\u001b[1;32m     10\u001b[0m \u001b[0;34m\u001b[0m\u001b[0m\n\u001b[1;32m     11\u001b[0m \u001b[0mX_train\u001b[0m\u001b[0;34m=\u001b[0m\u001b[0ml\u001b[0m\u001b[0;34m.\u001b[0m\u001b[0mscale_features\u001b[0m\u001b[0;34m(\u001b[0m\u001b[0mX_train\u001b[0m\u001b[0;34m)\u001b[0m\u001b[0;34m\u001b[0m\u001b[0m\n\u001b[0;32m---> 12\u001b[0;31m \u001b[0mprint\u001b[0m\u001b[0;34m(\u001b[0m\u001b[0mmean_squared_error\u001b[0m\u001b[0;34m(\u001b[0m\u001b[0mY_train\u001b[0m\u001b[0;34m,\u001b[0m\u001b[0mnp\u001b[0m\u001b[0;34m.\u001b[0m\u001b[0mdot\u001b[0m\u001b[0;34m(\u001b[0m\u001b[0mX_train\u001b[0m\u001b[0;34m,\u001b[0m\u001b[0mreg\u001b[0m\u001b[0;34m.\u001b[0m\u001b[0mcoef_\u001b[0m\u001b[0;34m)\u001b[0m \u001b[0;34m+\u001b[0m \u001b[0mreg\u001b[0m\u001b[0;34m.\u001b[0m\u001b[0mintercept_\u001b[0m\u001b[0;34m)\u001b[0m\u001b[0;34m**\u001b[0m\u001b[0;34m(\u001b[0m\u001b[0;36m.5\u001b[0m\u001b[0;34m)\u001b[0m\u001b[0;34m)\u001b[0m\u001b[0;34m\u001b[0m\u001b[0m\n\u001b[0m\u001b[1;32m     13\u001b[0m \u001b[0;31m# print(mean_squared_error(Y_train,l._weights[0]*X_train_t + l._weights[1])**.5)\u001b[0m\u001b[0;34m\u001b[0m\u001b[0;34m\u001b[0m\u001b[0m\n\u001b[1;32m     14\u001b[0m \u001b[0;31m# plt.plot(X_train,reg.coef_*X_train + reg.intercept_,color='blue')\u001b[0m\u001b[0;34m\u001b[0m\u001b[0;34m\u001b[0m\u001b[0m\n",
      "\u001b[0;31mValueError\u001b[0m: shapes (10400,28) and (1,28) not aligned: 28 (dim 1) != 1 (dim 0)"
     ]
    }
   ],
   "source": [
    "from sklearn import linear_model\n",
    "reg = linear_model.Ridge(alpha=1000)\n",
    "reg.fit(X_train,Y_train)\n",
    "print(reg.coef_)\n",
    "print(reg.intercept_)\n",
    "\n",
    "# print(l._weights)\n",
    "# print(l.rmse(l.transform_features(X_train),Y_train))\n",
    "from sklearn.metrics import mean_squared_error\n",
    "\n",
    "X_train=l.scale_features(X_train)\n",
    "print(mean_squared_error(Y_train,np.dot(X_train,reg.coef_) + reg.intercept_)**(.5))\n",
    "# print(mean_squared_error(Y_train,l._weights[0]*X_train_t + l._weights[1])**.5)\n",
    "# plt.plot(X_train,reg.coef_*X_train + reg.intercept_,color='blue')\n",
    "# plt.plot(X_train,l._weights[0]*X_train_t + l._weights[1],color='red')\n",
    "# plt.scatter(X_train,Y_train)\n",
    "# plt.show()"
   ]
  },
  {
   "cell_type": "code",
   "execution_count": 27,
   "metadata": {},
   "outputs": [
    {
     "name": "stdout",
     "output_type": "stream",
     "text": [
      "[[  1.18503809e+01]\n",
      " [ -2.45535169e-01]\n",
      " [  1.42882420e-01]\n",
      " [ -8.94027149e-01]\n",
      " [  3.74314577e+00]\n",
      " [ -3.31073329e+00]\n",
      " [ -8.87870034e+00]\n",
      " [ -1.32791944e+01]\n",
      " [  1.60725762e-02]\n",
      " [  4.75879182e-01]\n",
      " [  3.79550386e-01]\n",
      " [ -5.69444662e-02]\n",
      " [ -3.16245626e-01]\n",
      " [ -8.25451016e-01]\n",
      " [ -7.20595064e-01]\n",
      " [ -3.42244622e-01]\n",
      " [ -7.79883320e-01]\n",
      " [ -5.86817964e-01]\n",
      " [ -4.23845641e-01]\n",
      " [ -3.03692350e-01]\n",
      " [  8.57337531e+01]\n",
      " [  1.18503809e+01]\n",
      " [ -2.45535169e-01]\n",
      " [  1.42882420e-01]\n",
      " [ -8.94027149e-01]\n",
      " [  2.66638222e+00]\n",
      " [  5.96017262e+00]\n",
      " [  7.77583318e+00]\n",
      " [  1.50983472e-01]\n",
      " [ -1.71466781e-01]\n",
      " [ -4.07966156e-01]]\n"
     ]
    },
    {
     "data": {
      "image/png": "[encoded data removed]",
      "text/plain": [
       "<matplotlib.figure.Figure at 0x7f4e209d33c8>"
      ]
     },
     "metadata": {},
     "output_type": "display_data"
    },
    {
     "name": "stdout",
     "output_type": "stream",
     "text": [
      "<< DONE TRAINING >>\n"
     ]
    }
   ],
   "source": [
    "\n",
    "print (l._weights)\n",
    "features=['time','T6','Windspeed','Visibility']\n",
    "X=train[features]\n",
    "Y=train['Output']\n",
    "\n",
    "l2=linear_model(p=1.1,poly=5)\n",
    "l2.fit(X,Y)\n",
    "\n",
    "X_test=l2.transform_features(test[features].as_matrix())\n",
    "\n",
    "result=pd.DataFrame(test['Id'])\n",
    "result['Output']=pd.Series(l2.predict(X_test).flatten())\n",
    "result.to_csv('submissionx.csv',index=False)"
   ]
  }
 ],
 "metadata": {
  "kernelspec": {
   "display_name": "Python 3",
   "language": "python",
   "name": "python3"
  },
  "language_info": {
   "codemirror_mode": {
    "name": "ipython",
    "version": 3
   },
   "file_extension": ".py",
   "mimetype": "text/x-python",
   "name": "python",
   "nbconvert_exporter": "python",
   "pygments_lexer": "ipython3",
   "version": "3.6.1"
  }
 },
 "nbformat": 4,
 "nbformat_minor": 2
}
