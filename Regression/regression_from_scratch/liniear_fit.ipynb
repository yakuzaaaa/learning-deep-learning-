{
 "cells": [
  {
   "cell_type": "code",
   "execution_count": 1,
   "metadata": {
    "collapsed": false
   },
   "outputs": [
    {
     "name": "stdout",
     "output_type": "stream",
     "text": [
      "   h_score       gdp\n",
      "0    7.537  1.616463\n",
      "1    7.522  1.482383\n",
      "2    7.504  1.480633\n",
      "3    7.494  1.564980\n",
      "4    7.469  1.443572\n"
     ]
    }
   ],
   "source": [
    "import numpy as np\n",
    "import pandas as pd\n",
    "import matplotlib.pyplot as plt\n",
    "\n",
    "# loading the dataset\n",
    "data=pd.read_csv('data2.csv')\n",
    "print data.head()\n",
    "\n",
    "Y=data['h_score']\n",
    "X=data[data.columns.difference(['h_score'])]\n",
    "\n",
    "# train test split\n",
    "from sklearn.model_selection import train_test_split\n",
    "X_train, X_test, Y_train, Y_test = train_test_split(X, Y, test_size=0.2, random_state=42)\n",
    "    "
   ]
  },
  {
   "cell_type": "code",
   "execution_count": 2,
   "metadata": {
    "collapsed": false
   },
   "outputs": [
    {
     "name": "stdout",
     "output_type": "stream",
     "text": [
      "Populating the interactive namespace from numpy and matplotlib\n",
      "<< DONE TRAINING  >>\n"
     ]
    },
    {
     "data": {
      "image/png": "[encoded data removed]",
      "text/plain": [
       "<matplotlib.figure.Figure at 0x7fc890709590>"
      ]
     },
     "metadata": {},
     "output_type": "display_data"
    }
   ],
   "source": [
    "%pylab inline\n",
    "pylab.rcParams['figure.figsize'] = (16, 8)\n",
    "\n",
    "class linear_regression():\n",
    "    def __init__(self):\n",
    "        self.phi=None\n",
    "        self.weights=None\n",
    "        self.Y=None\n",
    "        self.rmserr=100.0\n",
    "    \n",
    "    #fit the liniear regression model \n",
    "    def fit(self,X,Y,algo='ls'):\n",
    "        self.phi=X.as_matrix()\n",
    "        self.Y=Y.as_matrix()\n",
    "        if algo=='ls':\n",
    "            self.least_squared_fit()\n",
    "    \n",
    "    #lsfit\n",
    "    def least_squared_fit(self):\n",
    "        #phiT\n",
    "        phi_t=self.phi.transpose()\n",
    "        #(phiT*phi)\n",
    "        temp_l=np.matmul(phi_t,self.phi)\n",
    "        #inv(phiT*phi)\n",
    "        phi_inv=np.linalg.inv(temp_l)\n",
    "        #inv(phiT*phi)*phi\n",
    "        temp_l_2=np.matmul(phi_inv,phi_t)\n",
    "        #w=inv(phiT*phi)*phi*Y\n",
    "        self.weights=np.matmul(temp_l_2,self.Y)\n",
    "        #row vector to column vector weights\n",
    "        self.weights=self.weights.reshape((self.weights.size,1))\n",
    "        #calculate training rmse\n",
    "        self.rmserr=self.rmse(self.phi,self.Y)\n",
    "        print '<< DONE TRAINING  >>'\n",
    "\n",
    "    #predict\n",
    "    def predict(self,x):\n",
    "        return np.matmul(x,self.weights);\n",
    "    \n",
    "    #calculate rmse for model\n",
    "    def rmse(self,x,y):\n",
    "        err=0.0\n",
    "        for i in xrange(y.size):\n",
    "            err+=(y[i]-self.predict(x[i]))**2\n",
    "        err/=float(y.size)\n",
    "        err=err**.5\n",
    "        return err\n",
    "    \n",
    "    #print weights\n",
    "    def print_weights(self):\n",
    "        print self.weights\n",
    "\n",
    "l=linear_regression()\n",
    "l.fit(X_train,Y_train)\n",
    "l.rmse(X_test.as_matrix(),Y_test.as_matrix())\n",
    "\n",
    "\n",
    "plt.scatter(X_train,Y_train, alpha=0.5,color='blue')\n",
    "plt.plot(X_train,l.predict(X_train.as_matrix()),'k',color='red')\n",
    "plt.show()\n",
    "\n"
   ]
  },
  {
   "cell_type": "code",
   "execution_count": null,
   "metadata": {
    "collapsed": true
   },
   "outputs": [],
   "source": []
  }
 ],
 "metadata": {
  "kernelspec": {
   "display_name": "Python 2",
   "language": "python",
   "name": "python2"
  },
  "language_info": {
   "codemirror_mode": {
    "name": "ipython",
    "version": 2
   },
   "file_extension": ".py",
   "mimetype": "text/x-python",
   "name": "python",
   "nbconvert_exporter": "python",
   "pygments_lexer": "ipython2",
   "version": "2.7.13"
  }
 },
 "nbformat": 4,
 "nbformat_minor": 2
}
