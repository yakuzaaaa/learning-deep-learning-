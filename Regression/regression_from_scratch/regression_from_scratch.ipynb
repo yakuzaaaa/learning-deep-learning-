{
 "cells": [
  {
   "cell_type": "code",
   "execution_count": 325,
   "metadata": {
    "collapsed": false
   },
   "outputs": [],
   "source": [
    "import numpy as np\n",
    "import pandas as pd\n",
    "import matplotlib.pyplot as plt\n",
    "\n",
    "# loading the dataset\n",
    "data=pd.read_csv('data2.csv')\n",
    "data.head()\n",
    "Y=data['h_score']\n",
    "X=data[data.columns.difference(['h_score'])]\n"
   ]
  },
  {
   "cell_type": "code",
   "execution_count": 326,
   "metadata": {
    "collapsed": false
   },
   "outputs": [
    {
     "name": "stdout",
     "output_type": "stream",
     "text": [
      "Populating the interactive namespace from numpy and matplotlib\n"
     ]
    }
   ],
   "source": [
    "%pylab inline\n",
    "pylab.rcParams['figure.figsize'] = (16, 8)\n",
    "\n",
    "class linear_regression():\n",
    "    def __init__(self,poly=1):\n",
    "        self.poly=poly\n",
    "        self.phi=None\n",
    "        self.phi_original=None\n",
    "        self.weights=None\n",
    "        self.Y=None\n",
    "        self.rmserr=100.0\n",
    "    \n",
    "    def transform_feature(self,mat):\n",
    "        retval=mat\n",
    "        for fi in xrange(mat.shape[1]):\n",
    "            for i in xrange(self.poly-1):\n",
    "                retval=np.hstack((retval,mat[:,fi].reshape((mat.shape[0],1))**(i+2)))\n",
    "        retval=np.hstack((retval,np.ones(mat.shape[0]).reshape((mat.shape[0],1))))\n",
    "        return retval\n",
    "    \n",
    "    def fit(self,X,Y,algo='ls'):\n",
    "        self.phi=X.as_matrix()\n",
    "        self.phi_original=X.as_matrix()\n",
    "        self.Y=Y.as_matrix()\n",
    "        self.phi=self.transform_feature(self.phi)\n",
    "        if algo=='ls':\n",
    "            self.least_squared_fit()\n",
    "        \n",
    "    def least_squared_fit(self):\n",
    "        #phiT\n",
    "        phi_t=self.phi.transpose()\n",
    "        #(phiT*phi)\n",
    "        temp_l=np.matmul(phi_t,self.phi)\n",
    "        #inv(phiT*phi)\n",
    "        phi_inv=np.linalg.inv(temp_l)\n",
    "        #inv(phiT*phi)*phi\n",
    "        temp_l_2=np.matmul(phi_inv,phi_t)\n",
    "        #w=inv(phiT*phi)*phi*Y\n",
    "        self.weights=np.matmul(temp_l_2,self.Y)\n",
    "        #row vector to column vector weights\n",
    "        self.weights=self.weights.reshape((self.weights.size,1))\n",
    "        #calculate training rmse\n",
    "        #self.rmserr=self.rmse(self.phi_original,self.Y)\n",
    "        print '<< DONE TRAINING  >>'\n",
    "\n",
    "    \n",
    "    def predict(self,x):\n",
    "        return np.matmul(self.weights.transpose(),self.transform_feature(x).transpose()).transpose()\n",
    "    \n",
    "    def rmse(self,x,y):\n",
    "        err=0.0\n",
    "        err=((y-self.predict(x))**2).sum()/y.size\n",
    "        err=err**.5\n",
    "        return err\n",
    "        \n",
    "    def print_weights(self):\n",
    "        print self.weights\n",
    "\n"
   ]
  },
  {
   "cell_type": "code",
   "execution_count": 335,
   "metadata": {
    "collapsed": false
   },
   "outputs": [
    {
     "name": "stdout",
     "output_type": "stream",
     "text": [
      "<< DONE TRAINING  >>\n",
      "7.97098202982\n"
     ]
    },
    {
     "data": {
      "image/png": "[encoded data removed]",
      "text/plain": [
       "<matplotlib.figure.Figure at 0x7fe8b273ae50>"
      ]
     },
     "metadata": {},
     "output_type": "display_data"
    }
   ],
   "source": [
    "# train test split\n",
    "from sklearn.model_selection import train_test_split\n",
    "X_train, X_test, Y_train, Y_test = train_test_split(X, Y, test_size=0.2, random_state=42)\n",
    "\n",
    "l=linear_regression(poly=10)\n",
    "l.fit(X_train,Y_train)\n",
    "print l.rmse(X_test.as_matrix(),Y_test.as_matrix())\n",
    "\n",
    "plt.scatter(X_train,Y_train, alpha=0.5,color='blue')\n",
    "features,predictions=zip(*(sorted(zip(X_train.as_matrix(), l.predict(X_train.as_matrix())))))\n",
    "plt.plot(features,predictions,'k',color='red')\n",
    "plt.show()"
   ]
  },
  {
   "cell_type": "code",
   "execution_count": 349,
   "metadata": {
    "collapsed": false
   },
   "outputs": [
    {
     "name": "stdout",
     "output_type": "stream",
     "text": [
      "<< DONE TRAINING  >>\n",
      "33107.8258289\n",
      "[[  6.27069320e+01]\n",
      " [ -7.92878456e+02]\n",
      " [  4.30972886e+03]\n",
      " [ -1.28172455e+04]\n",
      " [  2.30661090e+04]\n",
      " [ -2.61592240e+04]\n",
      " [  1.87818922e+04]\n",
      " [ -8.27067983e+03]\n",
      " [  2.03605520e+03]\n",
      " [ -2.14399348e+02]\n",
      " [  3.19961083e+00]]\n"
     ]
    }
   ],
   "source": [
    "train=pd.read_csv('train.csv')\n",
    "test=pd.read_csv('test.csv')\n",
    "\n",
    "X_train=train[['LotArea','OverallQual','OverallCond','YearBuilt','1stFlrSF','GrLivArea']]\n",
    "Y_train=train[['SalePrice']]\n",
    "X_test=test[['LotArea','OverallQual','OverallCond','YearBuilt','1stFlrSF','GrLivArea']]\n",
    "X_train, X_test, Y_train, Y_test = train_test_split(X_train, Y_train, test_size=0.2, random_state=42)\n",
    "result=pd.DataFrame(test['Id'])\n",
    "\n",
    "l2=linear_regression(poly=3)\n",
    "l2.fit(X_train,Y_train)\n",
    "print l2.rmse(X_test.as_matrix(),Y_test.as_matrix())\n",
    "\n",
    "l.print_weights()\n",
    "result['SalePrice']=pd.Series(l2.predict(X_test.as_matrix()).flatten())\n",
    "result.head()\n",
    "\n",
    "result.to_csv('submission.csv',index=False)\n"
   ]
  }
 ],
 "metadata": {
  "kernelspec": {
   "display_name": "Python 2",
   "language": "python",
   "name": "python2"
  },
  "language_info": {
   "codemirror_mode": {
    "name": "ipython",
    "version": 2
   },
   "file_extension": ".py",
   "mimetype": "text/x-python",
   "name": "python",
   "nbconvert_exporter": "python",
   "pygments_lexer": "ipython2",
   "version": "2.7.13"
  }
 },
 "nbformat": 4,
 "nbformat_minor": 2
}
