{
 "cells": [
  {
   "cell_type": "code",
   "execution_count": 3,
   "metadata": {},
   "outputs": [],
   "source": [
    "import numpy as np\n",
    "import pandas as pd\n",
    "import matplotlib.pyplot as plt\n"
   ]
  },
  {
   "cell_type": "code",
   "execution_count": 5,
   "metadata": {},
   "outputs": [
    {
     "ename": "SyntaxError",
     "evalue": "Missing parentheses in call to 'print' (<ipython-input-5-37f7cd66364d>, line 54)",
     "output_type": "error",
     "traceback": [
      "\u001b[0;36m  File \u001b[0;32m\"<ipython-input-5-37f7cd66364d>\"\u001b[0;36m, line \u001b[0;32m54\u001b[0m\n\u001b[0;31m    print '<< DONE TRAINING  >>'\u001b[0m\n\u001b[0m                               ^\u001b[0m\n\u001b[0;31mSyntaxError\u001b[0m\u001b[0;31m:\u001b[0m Missing parentheses in call to 'print'\n"
     ]
    }
   ],
   "source": [
    "%pylab inline\n",
    "pylab.rcParams['figure.figsize'] = (16, 8)\n",
    "\n",
    "class linear_regression():\n",
    "    def __init__(self,poly=1,lmda=0):\n",
    "        self.poly=poly\n",
    "        self.lmda=lmda\n",
    "        self.phi=None\n",
    "        self.phi_original=None\n",
    "        self.weights=None\n",
    "        self.Y=None\n",
    "        self.rmserr=100.0\n",
    "    \n",
    "    #normalization of feature is required to perform ridge regression\n",
    "    def scale_features(self,mat):\n",
    "        normed= (mat-mat.mean(axis=0))/mat.std(axis=0)\n",
    "        #print normed.mean(axis=0),normed.std(axis=0)\n",
    "        return normed\n",
    "    \n",
    "    def transform_feature(self,mat):\n",
    "        retval=mat\n",
    "        for fi in xrange(mat.shape[1]):\n",
    "            for i in xrange(self.poly-1):\n",
    "                retval=np.hstack((retval,mat[:,fi].reshape((mat.shape[0],1))**(i+2)))\n",
    "        retval=self.scale_features(retval)\n",
    "        retval=np.hstack((retval,np.ones(mat.shape[0]).reshape((mat.shape[0],1))))\n",
    "        return retval\n",
    "    \n",
    "    def fit(self,X,Y,algo='ls'):\n",
    "        self.phi=X.as_matrix()\n",
    "        self.phi_original=X.as_matrix()\n",
    "        self.Y=Y.as_matrix()\n",
    "        self.phi=self.transform_feature(self.phi)\n",
    "        if algo=='ls':\n",
    "            self.least_squared_fit()\n",
    "        \n",
    "    def least_squared_fit(self):\n",
    "        #phiT\n",
    "        phi_t=self.phi.transpose()\n",
    "        #(phiT*phi)\n",
    "        temp_l=np.matmul(phi_t,self.phi)\n",
    "        #lmda*I+phiT*phi\n",
    "        temp_l=self.lmda*np.identity(temp_l.shape[0])+temp_l\n",
    "        #inv(phiT*phi)\n",
    "        phi_inv=np.linalg.inv(temp_l)\n",
    "        #inv(phiT*phi)*phi\n",
    "        temp_l_2=np.matmul(phi_inv,phi_t)\n",
    "        #w=inv(phiT*phi)*phi*Y\n",
    "        self.weights=np.matmul(temp_l_2,self.Y)\n",
    "        #row vector to column vector weights\n",
    "        self.weights=self.weights.reshape((self.weights.size,1))\n",
    "        #calculate training rmse\n",
    "        self.rmserr=self.rmse(self.phi_original,self.Y)\n",
    "        print '<< DONE TRAINING  >>'\n",
    "\n",
    "    \n",
    "    def predict(self,x):\n",
    "        return np.matmul(self.weights.transpose(),self.transform_feature(x).transpose()).transpose()\n",
    "    \n",
    "    def rmse(self,x,y):\n",
    "        err=0.0\n",
    "        err=((y-self.predict(x))**2).sum()/y.size\n",
    "        err=err**.5\n",
    "        return err\n",
    "        \n",
    "    def print_weights(self):\n",
    "        print self.weights.flatten()\n",
    "\n"
   ]
  },
  {
   "cell_type": "code",
   "execution_count": 6,
   "metadata": {},
   "outputs": [
    {
     "ename": "SyntaxError",
     "evalue": "Missing parentheses in call to 'print' (<ipython-input-6-4c367109c3d4>, line 18)",
     "output_type": "error",
     "traceback": [
      "\u001b[0;36m  File \u001b[0;32m\"<ipython-input-6-4c367109c3d4>\"\u001b[0;36m, line \u001b[0;32m18\u001b[0m\n\u001b[0;31m    print l.rmserr\u001b[0m\n\u001b[0m          ^\u001b[0m\n\u001b[0;31mSyntaxError\u001b[0m\u001b[0;31m:\u001b[0m Missing parentheses in call to 'print'\n"
     ]
    }
   ],
   "source": [
    "# loading the dataset\n",
    "data=pd.read_csv('data2.csv')\n",
    "data.head()\n",
    "Y=data['h_score']\n",
    "X=data[data.columns.difference(['h_score'])]\n",
    "\n",
    "# train test split\n",
    "from sklearn.model_selection import train_test_split\n",
    "X_train, X_test, Y_train, Y_test = train_test_split(X, Y, test_size=0.2, random_state=42)\n",
    "\n",
    "l=linear_regression(poly=5,lmda=0.1)\n",
    "l.fit(X_train,Y_train)\n",
    "\n",
    "plt.scatter(X_train,Y_train, alpha=0.5,color='blue')\n",
    "features,predictions=zip(*(sorted(zip(X_train.as_matrix(), l.predict(X_train.as_matrix())))))\n",
    "plt.plot(features,predictions,'k',color='red')\n",
    "\n",
    "print l.rmserr\n",
    "l.print_weights()\n",
    "plt.show()"
   ]
  },
  {
   "cell_type": "code",
   "execution_count": 125,
   "metadata": {},
   "outputs": [
    {
     "name": "stdout",
     "output_type": "stream",
     "text": [
      "<< DONE TRAINING  >>\n",
      "30087.4612333\n",
      "[  25106.74617779   19616.57519664  -19148.00053204  -90804.90198883\n",
      "  -12680.41040231  -33985.48008662  -39436.48653905   23447.44586842\n",
      "  -89470.81226413  103679.21808446   77687.00594604  -49028.02662706\n",
      "    5788.20179925  106893.47467057   59269.5123785   -46763.44360749\n",
      "  107973.66559392  -54145.20794306  180908.80487638]\n"
     ]
    }
   ],
   "source": [
    "train=pd.read_csv('train.csv')\n",
    "test=pd.read_csv('test.csv')\n",
    "\n",
    "X_train=train[['LotArea','OverallQual','OverallCond','YearBuilt','1stFlrSF','GrLivArea']]\n",
    "Y_train=train[['SalePrice']]\n",
    "X_test=test[['LotArea','OverallQual','OverallCond','YearBuilt','1stFlrSF','GrLivArea']]\n",
    "# X_train, X_test, Y_train, Y_test = train_test_split(X_train, Y_train, test_size=0.2, random_state=42)\n",
    "result=pd.DataFrame(test['Id'])\n",
    "\n",
    "l2=linear_regression(poly=3,lmda=0.1)\n",
    "l2.fit(X_train,Y_train)\n",
    "print l2.rmserr\n",
    "\n",
    "l2.print_weights()\n",
    "result['SalePrice']=pd.Series(l2.predict(X_test.as_matrix()).flatten())\n",
    "# features,predictions=zip(*(sorted(zip(X_train.as_matrix(), list(l2.predict(X_train.as_matrix()))))))\n",
    "# plt.plot(features,predictions,'k',color='red')\n",
    "\n",
    "result.to_csv('submission.csv',index=False)\n"
   ]
  },
  {
   "cell_type": "code",
   "execution_count": 1,
   "metadata": {},
   "outputs": [
    {
     "ename": "SyntaxError",
     "evalue": "Missing parentheses in call to 'print' (<ipython-input-1-08f062680fe9>, line 32)",
     "output_type": "error",
     "traceback": [
      "\u001b[0;36m  File \u001b[0;32m\"<ipython-input-1-08f062680fe9>\"\u001b[0;36m, line \u001b[0;32m32\u001b[0m\n\u001b[0;31m    print \"Train Error : \",l2.rmserr\u001b[0m\n\u001b[0m                         ^\u001b[0m\n\u001b[0;31mSyntaxError\u001b[0m\u001b[0;31m:\u001b[0m Missing parentheses in call to 'print'\n"
     ]
    }
   ],
   "source": [
    "train=pd.read_csv('data/train.csv')\n",
    "test=pd.read_csv('data/test.csv')\n",
    "\n",
    "def date2t(x):\n",
    "    l=x.split(':')\n",
    "    return float(l[-3].split(' ')[-1])+float(l[-2])/60.\n",
    "\n",
    "def date2m(x):\n",
    "    l=x.split(\" \")\n",
    "    return int((float(l[0].split('-')[1])+float(l[0].split('-')[2])/30)*2)\n",
    "\n",
    "train['time']=train['date'].apply(date2t)\n",
    "train['month']=train['date'].apply(date2m)\n",
    "\n",
    "test['time']=test['date'].apply(date2t)\n",
    "test['month']=test['date'].apply(date2m)\n",
    "\n",
    "train.corr().to_csv('corr.csv')\n",
    "\n",
    "_train=train[train['Output']<300]\n",
    "\n",
    "X_train=_train[['time']]\n",
    "Y_train=_train[['Output']]\n",
    "X_test=test[['time']]\n",
    "\n",
    "X_train, X_test, Y_train, Y_test = train_test_split(X_train, Y_train, test_size=0.9, random_state=42)\n",
    "result=pd.DataFrame(test['Id'])\n",
    "\n",
    "l2=linear_regression(poly=1,lmda=0.1)\n",
    "l2.fit(X_train,Y_train)\n",
    "\n",
    "print \"Train Error : \",l2.rmserr\n",
    "print \"Test Error : \",l2.rmse(X_test.as_matrix(),Y_test.as_matrix())\n",
    "\n",
    "l2.print_weights()\n",
    "result['Output']=pd.Series(l2.predict(X_test.as_matrix()).flatten())\n",
    "\n",
    "# features,predictions=zip(*(sorted(zip(X_train.as_matrix(), list(l2.predict(X_train.as_matrix()))))))\n",
    "# plt.scatter(X_train,Y_train)\n",
    "# plt.plot(features,predictions,'k',color='red')\n",
    "\n",
    "result.to_csv('submission.csv',index=False)\n"
   ]
  },
  {
   "cell_type": "code",
   "execution_count": null,
   "metadata": {},
   "outputs": [],
   "source": []
  }
 ],
 "metadata": {
  "kernelspec": {
   "display_name": "Python 3",
   "language": "python",
   "name": "python3"
  },
  "language_info": {
   "codemirror_mode": {
    "name": "ipython",
    "version": 3
   },
   "file_extension": ".py",
   "mimetype": "text/x-python",
   "name": "python",
   "nbconvert_exporter": "python",
   "pygments_lexer": "ipython3",
   "version": "3.6.1"
  }
 },
 "nbformat": 4,
 "nbformat_minor": 2
}
